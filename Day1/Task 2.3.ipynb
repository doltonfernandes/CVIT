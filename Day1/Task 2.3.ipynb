{
  "nbformat": 4,
  "nbformat_minor": 0,
  "metadata": {
    "colab": {
      "name": "CVIT.ipynb",
      "provenance": []
    },
    "kernelspec": {
      "name": "python3",
      "display_name": "Python 3"
    }
  },
  "cells": [
    {
      "cell_type": "code",
      "metadata": {
        "id": "mXmKsjaXJUxQ",
        "colab_type": "code",
        "colab": {}
      },
      "source": [
        "x = dict([(pow(10,r),r) for r in range(10)])"
      ],
      "execution_count": 0,
      "outputs": []
    },
    {
      "cell_type": "code",
      "metadata": {
        "id": "tpoWA3IgKX80",
        "colab_type": "code",
        "colab": {}
      },
      "source": [
        "listt = [ [a, x[a]] for a in x]"
      ],
      "execution_count": 0,
      "outputs": []
    },
    {
      "cell_type": "code",
      "metadata": {
        "id": "zpXosi58K3O0",
        "colab_type": "code",
        "colab": {}
      },
      "source": [
        "listt.sort(key=lambda x:x[0]%101)"
      ],
      "execution_count": 0,
      "outputs": []
    },
    {
      "cell_type": "code",
      "metadata": {
        "id": "4OHso4qxLTgi",
        "colab_type": "code",
        "colab": {
          "base_uri": "https://localhost:8080/",
          "height": 191
        },
        "outputId": "04167271-d44a-4b0f-cf97-a6b5cb13994a"
      },
      "source": [
        "listt"
      ],
      "execution_count": 8,
      "outputs": [
        {
          "output_type": "execute_result",
          "data": {
            "text/plain": [
              "[[1, 0],\n",
              " [10000, 4],\n",
              " [100000000, 8],\n",
              " [10, 1],\n",
              " [100000, 5],\n",
              " [1000000000, 9],\n",
              " [1000, 3],\n",
              " [10000000, 7],\n",
              " [100, 2],\n",
              " [1000000, 6]]"
            ]
          },
          "metadata": {
            "tags": []
          },
          "execution_count": 8
        }
      ]
    }
  ]
}