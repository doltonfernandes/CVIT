{
  "nbformat": 4,
  "nbformat_minor": 0,
  "metadata": {
    "colab": {
      "name": "CVIT.ipynb",
      "provenance": []
    },
    "kernelspec": {
      "name": "python3",
      "display_name": "Python 3"
    }
  },
  "cells": [
    {
      "cell_type": "code",
      "metadata": {
        "id": "mXmKsjaXJUxQ",
        "colab_type": "code",
        "colab": {
          "base_uri": "https://localhost:8080/",
          "height": 104
        },
        "outputId": "028fdf6a-584b-4fd1-d00e-34de21a02010"
      },
      "source": [
        "import numpy as np\n",
        "n = 5\n",
        "A = np.random.randn(n,n)\n",
        "U,s,V = np.linalg.svd(A) \n",
        "Ainv = np.transpose(V) @ np.diag(1/s) @ np.transpose(U)\n",
        "Ainv"
      ],
      "execution_count": 16,
      "outputs": [
        {
          "output_type": "execute_result",
          "data": {
            "text/plain": [
              "array([[-1.95813949,  3.61927556, -2.38390244,  1.79080307, -2.11150919],\n",
              "       [ 0.74332349, -1.78907949,  1.39781912, -0.61811791,  1.27280902],\n",
              "       [ 0.95776321, -3.06169687,  2.74074083, -1.36545333,  1.21328082],\n",
              "       [ 0.42617427,  0.18307033,  0.0548977 , -0.55397167,  0.32936281],\n",
              "       [ 0.10100296,  0.25755254, -0.05507595,  0.33264506, -0.16528804]])"
            ]
          },
          "metadata": {
            "tags": []
          },
          "execution_count": 16
        }
      ]
    },
    {
      "cell_type": "code",
      "metadata": {
        "id": "j9vUJc5Gk2ZI",
        "colab_type": "code",
        "colab": {}
      },
      "source": [
        ""
      ],
      "execution_count": 0,
      "outputs": []
    }
  ]
}