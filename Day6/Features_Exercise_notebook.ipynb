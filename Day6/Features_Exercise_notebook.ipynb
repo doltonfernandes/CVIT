{
  "nbformat": 4,
  "nbformat_minor": 0,
  "metadata": {
    "colab": {
      "name": "Copy of Copy of Features Exercise notebook",
      "provenance": [],
      "collapsed_sections": []
    },
    "kernelspec": {
      "name": "python3",
      "display_name": "Python 3"
    }
  },
  "cells": [
    {
      "cell_type": "code",
      "metadata": {
        "id": "ocg_e9pZ2w9x",
        "colab_type": "code",
        "cellView": "form",
        "outputId": "bdba6ce6-1588-4410-920f-2a750f54a5fd",
        "colab": {
          "base_uri": "https://localhost:8080/",
          "height": 306
        }
      },
      "source": [
        "#@title E1: Which of these features are related to the objective?\n",
        "\n",
        "from IPython.core.display import display, HTML\n",
        "display(HTML(\"\"\"\n",
        "<html>\n",
        "<body>\n",
        "\n",
        "<h3>Objective: Predict total number of customers who will use a certain discount coupon</h3>\n",
        "\n",
        "<form action=\"/action_page.php\">\n",
        "  <input type=\"checkbox\" id=\"vehicle1\" name=\"vehicle1\" value=\"Bike\">\n",
        "  <label for=\"vehicle1\"> Font of the text with which the discount is advertised on partner websites</label><br>\n",
        "  <input type=\"checkbox\" id=\"vehicle2\" name=\"vehicle2\" value=\"Car\" checked>\n",
        "  <label for=\"vehicle2\"> Price of the item the coupon applies to</label><br>\n",
        "  <input type=\"checkbox\" id=\"vehicle3\" name=\"vehicle3\" value=\"Boat\">\n",
        "  <label for=\"vehicle3\"> Number of items in stock</label><br><br>\n",
        "</form>\n",
        "\n",
        "</body>\n",
        "</html>\n",
        "\n",
        "\"\"\"))\n",
        "\n",
        "display(HTML(\"\"\"\n",
        "<html>\n",
        "<body>\n",
        "\n",
        "<h3>Objective:  Predict point-of-sale credit card fraudulent activity</h3>\n",
        "\n",
        "<form action=\"/action_page.php\">\n",
        "  <input type=\"checkbox\" id=\"vehicle1\" name=\"vehicle1\" value=\"Bike\" checked>\n",
        "  <label for=\"vehicle1\"> Whether cardholder has purchased these items at this store before</label><br>\n",
        "  <input type=\"checkbox\" id=\"vehicle2\" name=\"vehicle2\" value=\"Car\">\n",
        "  <label for=\"vehicle2\"> Credit card chip reader speed</label><br>\n",
        "  <input type=\"checkbox\" id=\"vehicle3\" name=\"vehicle3\" value=\"Boat\" checked>\n",
        "  <label for=\"vehicle3\"> Category of item being purchased</label><br>\n",
        "  <input type=\"checkbox\" id=\"vehicle4\" name=\"vehicle4\" value=\"Boa4t\">\n",
        "  <label for=\"vehicle4\">Expiry date of credit card </label><br><br>\n",
        "</form>\n",
        "\n",
        "</body>\n",
        "</html>\n",
        "\n",
        "\"\"\"))\n"
      ],
      "execution_count": 8,
      "outputs": [
        {
          "output_type": "display_data",
          "data": {
            "text/html": [
              "\n",
              "<html>\n",
              "<body>\n",
              "\n",
              "<h3>Objective: Predict total number of customers who will use a certain discount coupon</h3>\n",
              "\n",
              "<form action=\"/action_page.php\">\n",
              "  <input type=\"checkbox\" id=\"vehicle1\" name=\"vehicle1\" value=\"Bike\">\n",
              "  <label for=\"vehicle1\"> Font of the text with which the discount is advertised on partner websites</label><br>\n",
              "  <input type=\"checkbox\" id=\"vehicle2\" name=\"vehicle2\" value=\"Car\" checked>\n",
              "  <label for=\"vehicle2\"> Price of the item the coupon applies to</label><br>\n",
              "  <input type=\"checkbox\" id=\"vehicle3\" name=\"vehicle3\" value=\"Boat\">\n",
              "  <label for=\"vehicle3\"> Number of items in stock</label><br><br>\n",
              "</form>\n",
              "\n",
              "</body>\n",
              "</html>\n",
              "\n"
            ],
            "text/plain": [
              "<IPython.core.display.HTML object>"
            ]
          },
          "metadata": {
            "tags": []
          }
        },
        {
          "output_type": "display_data",
          "data": {
            "text/html": [
              "\n",
              "<html>\n",
              "<body>\n",
              "\n",
              "<h3>Objective:  Predict point-of-sale credit card fraudulent activity</h3>\n",
              "\n",
              "<form action=\"/action_page.php\">\n",
              "  <input type=\"checkbox\" id=\"vehicle1\" name=\"vehicle1\" value=\"Bike\" checked>\n",
              "  <label for=\"vehicle1\"> Whether cardholder has purchased these items at this store before</label><br>\n",
              "  <input type=\"checkbox\" id=\"vehicle2\" name=\"vehicle2\" value=\"Car\">\n",
              "  <label for=\"vehicle2\"> Credit card chip reader speed</label><br>\n",
              "  <input type=\"checkbox\" id=\"vehicle3\" name=\"vehicle3\" value=\"Boat\" checked>\n",
              "  <label for=\"vehicle3\"> Category of item being purchased</label><br>\n",
              "  <input type=\"checkbox\" id=\"vehicle4\" name=\"vehicle4\" value=\"Boa4t\">\n",
              "  <label for=\"vehicle4\">Expiry date of credit card </label><br><br>\n",
              "</form>\n",
              "\n",
              "</body>\n",
              "</html>\n",
              "\n"
            ],
            "text/plain": [
              "<IPython.core.display.HTML object>"
            ]
          },
          "metadata": {
            "tags": []
          }
        }
      ]
    },
    {
      "cell_type": "code",
      "metadata": {
        "id": "CEDX3QHI28x6",
        "colab_type": "code",
        "cellView": "form",
        "colab": {
          "base_uri": "https://localhost:8080/",
          "height": 306
        },
        "outputId": "e296cb29-a1cb-437e-86e6-d505445d8be7"
      },
      "source": [
        "#@title E2: Are these features knowable at prediction time?\n",
        "from IPython.core.display import display, HTML\n",
        "display(HTML(\"\"\"\n",
        "<html>\n",
        "<body>\n",
        "\n",
        "<h3>Objective: Predict total number of customers who will use a certain discount coupon</h3>\n",
        "\n",
        "<form action=\"/action_page.php\">\n",
        "  <input type=\"checkbox\" id=\"vehicle1\" name=\"vehicle1\" value=\"Bike\">\n",
        "  <label for=\"vehicle1\"> Total number of discountable items sold</label><br>\n",
        "  <input type=\"checkbox\" id=\"vehicle2\" name=\"vehicle2\" value=\"Car\" checked>\n",
        "  <label for=\"vehicle2\"> Number of discountable items sold the previous month</label><br>\n",
        "  <input type=\"checkbox\" id=\"vehicle3\" name=\"vehicle3\" value=\"Boat\">\n",
        "  <label for=\"vehicle3\"> Number of customers who viewed ads about item</label><br><br>\n",
        "</form>\n",
        "\n",
        "</body>\n",
        "</html>\n",
        "\n",
        "\"\"\"))\n",
        "\n",
        "display(HTML(\"\"\"\n",
        "<html>\n",
        "<body>\n",
        "\n",
        "<h3>Objective:  Predict point-of-sale credit card fraudulent activity</h3>\n",
        "\n",
        "<form action=\"/action_page.php\">\n",
        "  <input type=\"checkbox\" id=\"vehicle1\" name=\"vehicle1\" value=\"Bike\" checked>\n",
        "  <label for=\"vehicle1\"> Whether cardholder has purchased these items at this store before</label><br>\n",
        "  <input type=\"checkbox\" id=\"vehicle2\" name=\"vehicle2\" value=\"Car\">\n",
        "  <label for=\"vehicle2\"> Whether item is new at store (and can not have been purchased before)</label><br>\n",
        "  <input type=\"checkbox\" id=\"vehicle3\" name=\"vehicle3\" value=\"Boat\" checked>\n",
        "  <label for=\"vehicle3\"> Category of item being purchased</label><br>\n",
        "  <input type=\"checkbox\" id=\"vehicle4\" name=\"vehicle4\" value=\"Boa4t\">\n",
        "  <label for=\"vehicle4\">Online or in-person purchase</label><br><br>\n",
        "</form>\n",
        "\n",
        "</body>\n",
        "</html>\n",
        "\n",
        "\"\"\"))\n"
      ],
      "execution_count": 9,
      "outputs": [
        {
          "output_type": "display_data",
          "data": {
            "text/html": [
              "\n",
              "<html>\n",
              "<body>\n",
              "\n",
              "<h3>Objective: Predict total number of customers who will use a certain discount coupon</h3>\n",
              "\n",
              "<form action=\"/action_page.php\">\n",
              "  <input type=\"checkbox\" id=\"vehicle1\" name=\"vehicle1\" value=\"Bike\">\n",
              "  <label for=\"vehicle1\"> Total number of discountable items sold</label><br>\n",
              "  <input type=\"checkbox\" id=\"vehicle2\" name=\"vehicle2\" value=\"Car\" checked>\n",
              "  <label for=\"vehicle2\"> Number of discountable items sold the previous month</label><br>\n",
              "  <input type=\"checkbox\" id=\"vehicle3\" name=\"vehicle3\" value=\"Boat\">\n",
              "  <label for=\"vehicle3\"> Number of customers who viewed ads about item</label><br><br>\n",
              "</form>\n",
              "\n",
              "</body>\n",
              "</html>\n",
              "\n"
            ],
            "text/plain": [
              "<IPython.core.display.HTML object>"
            ]
          },
          "metadata": {
            "tags": []
          }
        },
        {
          "output_type": "display_data",
          "data": {
            "text/html": [
              "\n",
              "<html>\n",
              "<body>\n",
              "\n",
              "<h3>Objective:  Predict point-of-sale credit card fraudulent activity</h3>\n",
              "\n",
              "<form action=\"/action_page.php\">\n",
              "  <input type=\"checkbox\" id=\"vehicle1\" name=\"vehicle1\" value=\"Bike\" checked>\n",
              "  <label for=\"vehicle1\"> Whether cardholder has purchased these items at this store before</label><br>\n",
              "  <input type=\"checkbox\" id=\"vehicle2\" name=\"vehicle2\" value=\"Car\">\n",
              "  <label for=\"vehicle2\"> Whether item is new at store (and can not have been purchased before)</label><br>\n",
              "  <input type=\"checkbox\" id=\"vehicle3\" name=\"vehicle3\" value=\"Boat\" checked>\n",
              "  <label for=\"vehicle3\"> Category of item being purchased</label><br>\n",
              "  <input type=\"checkbox\" id=\"vehicle4\" name=\"vehicle4\" value=\"Boa4t\">\n",
              "  <label for=\"vehicle4\">Online or in-person purchase</label><br><br>\n",
              "</form>\n",
              "\n",
              "</body>\n",
              "</html>\n",
              "\n"
            ],
            "text/plain": [
              "<IPython.core.display.HTML object>"
            ]
          },
          "metadata": {
            "tags": []
          }
        }
      ]
    },
    {
      "cell_type": "code",
      "metadata": {
        "id": "p3ft8pGEBgT8",
        "colab_type": "code",
        "cellView": "form",
        "outputId": "1ca4fd4b-fc13-427c-a109-25a73fc5054e",
        "colab": {
          "base_uri": "https://localhost:8080/",
          "height": 198
        }
      },
      "source": [
        "#@title E3: Which of these features are numeric (or could be in a useful form)?\n",
        "from IPython.core.display import display, HTML\n",
        "display(HTML(\"\"\"\n",
        "<html>\n",
        "<body>\n",
        "\n",
        "<h3>Objective: Predict total number of customers who will use a certain discount coupon</h3>\n",
        "\n",
        "<form action=\"/action_page.php\">\n",
        "  <input type=\"checkbox\" id=\"vehicle1\" name=\"vehicle1\" value=\"Bike\" checked>\n",
        "  <label for=\"vehicle1\"> Percent value of the discount (e.g. 10% off, 20% off, etc.)</label><br>\n",
        "  <input type=\"checkbox\" id=\"vehicle2\" name=\"vehicle2\" value=\"Car\">\n",
        "  <label for=\"vehicle2\"> Size of the coupon (e.g. 4 cm2, 24 cm2, 48 cm2, etc.)</label><br>\n",
        "  <input type=\"checkbox\" id=\"vehicle3\" name=\"vehicle3\" value=\"Boat\">\n",
        "  <label for=\"vehicle2\"> Color of coupon (red, black, blue, etc.)</label><br>\n",
        "  <input type=\"checkbox\" id=\"vehicle3\" name=\"vehicle3\" value=\"Boat\">  \n",
        "  <label for=\"vehicle2\"> Item category (1 for dairy, 2 for deli, 3 for canned goods, etc.)</label><br>\n",
        "  <input type=\"checkbox\" id=\"vehicle3\" name=\"vehicle3\" value=\"Boat\">\n",
        "  <label for=\"vehicle3\"> Font an advertisement is in (Arial, Times New Roman, etc.)</label><br><br>\n",
        "</form>\n",
        "\n",
        "</body>\n",
        "</html>\n",
        "\n",
        "\"\"\"))\n",
        "\n"
      ],
      "execution_count": 10,
      "outputs": [
        {
          "output_type": "display_data",
          "data": {
            "text/html": [
              "\n",
              "<html>\n",
              "<body>\n",
              "\n",
              "<h3>Objective: Predict total number of customers who will use a certain discount coupon</h3>\n",
              "\n",
              "<form action=\"/action_page.php\">\n",
              "  <input type=\"checkbox\" id=\"vehicle1\" name=\"vehicle1\" value=\"Bike\" checked>\n",
              "  <label for=\"vehicle1\"> Percent value of the discount (e.g. 10% off, 20% off, etc.)</label><br>\n",
              "  <input type=\"checkbox\" id=\"vehicle2\" name=\"vehicle2\" value=\"Car\">\n",
              "  <label for=\"vehicle2\"> Size of the coupon (e.g. 4 cm2, 24 cm2, 48 cm2, etc.)</label><br>\n",
              "  <input type=\"checkbox\" id=\"vehicle3\" name=\"vehicle3\" value=\"Boat\">\n",
              "  <label for=\"vehicle2\"> Color of coupon (red, black, blue, etc.)</label><br>\n",
              "  <input type=\"checkbox\" id=\"vehicle3\" name=\"vehicle3\" value=\"Boat\">  \n",
              "  <label for=\"vehicle2\"> Item category (1 for dairy, 2 for deli, 3 for canned goods, etc.)</label><br>\n",
              "  <input type=\"checkbox\" id=\"vehicle3\" name=\"vehicle3\" value=\"Boat\">\n",
              "  <label for=\"vehicle3\"> Font an advertisement is in (Arial, Times New Roman, etc.)</label><br><br>\n",
              "</form>\n",
              "\n",
              "</body>\n",
              "</html>\n",
              "\n"
            ],
            "text/plain": [
              "<IPython.core.display.HTML object>"
            ]
          },
          "metadata": {
            "tags": []
          }
        }
      ]
    },
    {
      "cell_type": "code",
      "metadata": {
        "id": "UNmD33S9F4t4",
        "colab_type": "code",
        "cellView": "form",
        "outputId": "db60adaa-eba4-4cb9-b1fd-d96f85e9d198",
        "colab": {
          "base_uri": "https://localhost:8080/",
          "height": 331
        }
      },
      "source": [
        "#@title E4: Which of these will it be difficult to get enough examples for?\n",
        "\n",
        "from IPython.core.display import display, HTML\n",
        "display(HTML(\"\"\"\n",
        "<html>\n",
        "<body>\n",
        "\n",
        "<h3>Objective: Predict total number of customers who will use a certain discount coupon</h3>\n",
        "\n",
        "<form action=\"/action_page.php\">\n",
        "  <input type=\"checkbox\" id=\"vehicle1\" name=\"vehicle1\" value=\"Bike\" checked>\n",
        "  <label for=\"vehicle1\"> Percent value of the discount (e.g. 10% off, 20% off, etc.)</label><br>\n",
        "  <input type=\"checkbox\" id=\"vehicle2\" name=\"vehicle2\" value=\"Car\" checked>\n",
        "  <label for=\"vehicle2\"> Date that promotional offer starts</label><br>\n",
        "  <input type=\"checkbox\" id=\"vehicle3\" name=\"vehicle3\" value=\"Boat\">\n",
        "  <label for=\"vehicle2\"> Number of customers who opened advertising email</label><br>\n",
        "  <input type=\"checkbox\" id=\"vehicle3\" name=\"vehicle3\" value=\"Boat\">  \n",
        "  <label for=\"vehicle2\"> All of these we should be able enough examples for\n",
        "</label><br><br>\n",
        "</form>\n",
        "\n",
        "</body>\n",
        "</html>\n",
        "\n",
        "\"\"\"))\n",
        "display(HTML(\"\"\"\n",
        "<h3>Objective:  Predict point-of-sale credit card fraudulent activity</h3>\n",
        "\n",
        "<form action=\"/action_page.php\">\n",
        "  <input type=\"checkbox\" id=\"vehicle1\" name=\"vehicle1\" value=\"Bike\">\n",
        "  <label for=\"vehicle1\"> Whether cardholder has purchased these items at this store before</label><br>\n",
        "  <input type=\"checkbox\" id=\"vehicle2\" name=\"vehicle2\" value=\"Car\" checked>\n",
        "  <label for=\"vehicle2\"> Distance between cardholder address and store</label><br>\n",
        "  <input type=\"checkbox\" id=\"vehicle3\" name=\"vehicle3\" value=\"Boat\">\n",
        "  <label for=\"vehicle3\"> Category of item being purchased</label><br>\n",
        "  <input type=\"checkbox\" id=\"vehicle4\" name=\"vehicle4\" value=\"Boa4t\">\n",
        "  <label for=\"vehicle4\">Online or in-person purchase</label><br><br>\n",
        "</form>\n",
        "\n",
        "</body>\n",
        "</html>\n",
        "\"\"\"))\n"
      ],
      "execution_count": 11,
      "outputs": [
        {
          "output_type": "display_data",
          "data": {
            "text/html": [
              "\n",
              "<html>\n",
              "<body>\n",
              "\n",
              "<h3>Objective: Predict total number of customers who will use a certain discount coupon</h3>\n",
              "\n",
              "<form action=\"/action_page.php\">\n",
              "  <input type=\"checkbox\" id=\"vehicle1\" name=\"vehicle1\" value=\"Bike\" checked>\n",
              "  <label for=\"vehicle1\"> Percent value of the discount (e.g. 10% off, 20% off, etc.)</label><br>\n",
              "  <input type=\"checkbox\" id=\"vehicle2\" name=\"vehicle2\" value=\"Car\" checked>\n",
              "  <label for=\"vehicle2\"> Date that promotional offer starts</label><br>\n",
              "  <input type=\"checkbox\" id=\"vehicle3\" name=\"vehicle3\" value=\"Boat\">\n",
              "  <label for=\"vehicle2\"> Number of customers who opened advertising email</label><br>\n",
              "  <input type=\"checkbox\" id=\"vehicle3\" name=\"vehicle3\" value=\"Boat\">  \n",
              "  <label for=\"vehicle2\"> All of these we should be able enough examples for\n",
              "</label><br><br>\n",
              "</form>\n",
              "\n",
              "</body>\n",
              "</html>\n",
              "\n"
            ],
            "text/plain": [
              "<IPython.core.display.HTML object>"
            ]
          },
          "metadata": {
            "tags": []
          }
        },
        {
          "output_type": "display_data",
          "data": {
            "text/html": [
              "\n",
              "<h3>Objective:  Predict point-of-sale credit card fraudulent activity</h3>\n",
              "\n",
              "<form action=\"/action_page.php\">\n",
              "  <input type=\"checkbox\" id=\"vehicle1\" name=\"vehicle1\" value=\"Bike\">\n",
              "  <label for=\"vehicle1\"> Whether cardholder has purchased these items at this store before</label><br>\n",
              "  <input type=\"checkbox\" id=\"vehicle2\" name=\"vehicle2\" value=\"Car\" checked>\n",
              "  <label for=\"vehicle2\"> Distance between cardholder address and store</label><br>\n",
              "  <input type=\"checkbox\" id=\"vehicle3\" name=\"vehicle3\" value=\"Boat\">\n",
              "  <label for=\"vehicle3\"> Category of item being purchased</label><br>\n",
              "  <input type=\"checkbox\" id=\"vehicle4\" name=\"vehicle4\" value=\"Boa4t\">\n",
              "  <label for=\"vehicle4\">Online or in-person purchase</label><br><br>\n",
              "</form>\n",
              "\n",
              "</body>\n",
              "</html>\n"
            ],
            "text/plain": [
              "<IPython.core.display.HTML object>"
            ]
          },
          "metadata": {
            "tags": []
          }
        }
      ]
    },
    {
      "cell_type": "code",
      "metadata": {
        "id": "IAelCWVxt4rD",
        "colab_type": "code",
        "cellView": "form",
        "outputId": "f6b5b45b-904c-4371-cee2-246768b00e2d",
        "colab": {
          "base_uri": "https://localhost:8080/",
          "height": 528
        }
      },
      "source": [
        "#@title Quiz\n",
        "from IPython.core.display import display, HTML\n",
        "display(HTML(\"\"\"\n",
        "<html>\n",
        "<body>\n",
        "\n",
        "<h3>What are the characteristics of a good feature?</h3>\n",
        "\n",
        "<form action=\"/action_page.php\">\n",
        "  <input type=\"checkbox\" id=\"vehicle1\" name=\"vehicle1\" value=\"Bike\" checked>\n",
        "  <label for=\"vehicle1\"> Related to the objective\n",
        "</label><br>\n",
        "  <input type=\"checkbox\" id=\"vehicle2\" name=\"vehicle2\" value=\"Car\" checked>\n",
        "  <label for=\"vehicle2\"> Be numeric with meaningful magnitude\n",
        "</label><br>\n",
        "  <input type=\"checkbox\" id=\"vehicle3\" name=\"vehicle3\" value=\"Boat\" checked>\n",
        "  <label for=\"vehicle2\"> Have enough examples in the data\n",
        "</label><br><input type=\"checkbox\" id=\"vehicle3\" name=\"vehicle3\" value=\"Boat\">\n",
        "  <label for=\"vehicle2\"> Knowable at prediction time\n",
        "</label><br>\n",
        "  <input type=\"checkbox\" id=\"vehicle3\" name=\"vehicle3\" value=\"Boat\" checked>  \n",
        "  <label for=\"vehicle2\"> Be in free-text format\n",
        "\n",
        "</label><br><br>\n",
        "</form>\n",
        "</body>\n",
        "</html>\n",
        "\n",
        "\"\"\"))\n",
        "display(HTML(\"\"\"\n",
        "<h3>I want to build a model to predict whether Team A will win its basketball game against Team B. I will train my model on features computed on historical basketball games. One of my features is how many games this season Team A has won. How should I compute this feature?</h3>\n",
        "\n",
        "<form action=\"/action_page.php\">\n",
        "  <input type=\"radio\" id=\"vehicle1\" name=\"vehicle\" value=\"Bike\">\n",
        "  <label for=\"vehicle1\"> Compute num_games_won / num_games_played over the whole season\n",
        "</label><br>\n",
        "  <input type=\"radio\" id=\"vehicle2\" name=\"vehicle\" value=\"Car\" checked>\n",
        "  <label for=\"vehicle2\"> Compute num_games_won / num_games_played until the N-1 th game in order to train with the label for the N th game\n",
        "</label><br>\n",
        " \n",
        "  <input type=\"radio\" id=\"vehicle4\" name=\"vehicle\" value=\"Boa4t\">\n",
        "  <label for=\"vehicle4\">Compute num_games_won / num_games_played until the N th game in order to train with the label for the N th game\n",
        "</label><br><br>\n",
        "</form>\n",
        "</body>\n",
        "</html>\n",
        "\"\"\"))\n",
        "\n",
        "display(HTML(\"\"\"\n",
        "<h3>I want to build a model to predict whether Team A will win its basketball game against Team B. Which of these attributes (computed on historical basketball games) are good features? Assume that these features are all computed appropriately without taking into account non-causal data.</h3>\n",
        "\n",
        "<form action=\"/action_page.php\">\n",
        "  <input type=\"checkbox\" id=\"vehicle1\" name=\"vehicle1\" value=\"Bike\" checked>\n",
        "  <label for=\"vehicle1\"> How often Team A wins games\n",
        "</label><br>\n",
        "  <input type=\"checkbox\" id=\"vehicle2\" name=\"vehicle2\" value=\"Car\" checked>\n",
        "  <label for=\"vehicle2\"> How often Team A wins games where its opponent is ranked in the top 10\n",
        "</label><br>\n",
        " \n",
        "  <input type=\"checkbox\" id=\"vehicle4\" name=\"vehicle4\" value=\"Boa4t\" checked>\n",
        "  <label for=\"vehicle4\">How many of the last 7 games that Team A played that it has won</label><br>\n",
        "\n",
        "     <input type=\"checkbox\" id=\"vehicle2\" name=\"vehicle2\" value=\"Car\" checked>\n",
        "  <label for=\"vehicle2\"> The fraction of games that Team A won when it played against Team B when both teams had this exact set of players\n",
        "</label><br><br>\n",
        "</form>\n",
        "</body>\n",
        "</html>\n",
        "\"\"\"))\n",
        "\n",
        "\n",
        "\n",
        "\n",
        "\n",
        "\n",
        "\n"
      ],
      "execution_count": 12,
      "outputs": [
        {
          "output_type": "display_data",
          "data": {
            "text/html": [
              "\n",
              "<html>\n",
              "<body>\n",
              "\n",
              "<h3>What are the characteristics of a good feature?</h3>\n",
              "\n",
              "<form action=\"/action_page.php\">\n",
              "  <input type=\"checkbox\" id=\"vehicle1\" name=\"vehicle1\" value=\"Bike\" checked>\n",
              "  <label for=\"vehicle1\"> Related to the objective\n",
              "</label><br>\n",
              "  <input type=\"checkbox\" id=\"vehicle2\" name=\"vehicle2\" value=\"Car\" checked>\n",
              "  <label for=\"vehicle2\"> Be numeric with meaningful magnitude\n",
              "</label><br>\n",
              "  <input type=\"checkbox\" id=\"vehicle3\" name=\"vehicle3\" value=\"Boat\" checked>\n",
              "  <label for=\"vehicle2\"> Have enough examples in the data\n",
              "</label><br><input type=\"checkbox\" id=\"vehicle3\" name=\"vehicle3\" value=\"Boat\">\n",
              "  <label for=\"vehicle2\"> Knowable at prediction time\n",
              "</label><br>\n",
              "  <input type=\"checkbox\" id=\"vehicle3\" name=\"vehicle3\" value=\"Boat\" checked>  \n",
              "  <label for=\"vehicle2\"> Be in free-text format\n",
              "\n",
              "</label><br><br>\n",
              "</form>\n",
              "</body>\n",
              "</html>\n",
              "\n"
            ],
            "text/plain": [
              "<IPython.core.display.HTML object>"
            ]
          },
          "metadata": {
            "tags": []
          }
        },
        {
          "output_type": "display_data",
          "data": {
            "text/html": [
              "\n",
              "<h3>I want to build a model to predict whether Team A will win its basketball game against Team B. I will train my model on features computed on historical basketball games. One of my features is how many games this season Team A has won. How should I compute this feature?</h3>\n",
              "\n",
              "<form action=\"/action_page.php\">\n",
              "  <input type=\"radio\" id=\"vehicle1\" name=\"vehicle\" value=\"Bike\">\n",
              "  <label for=\"vehicle1\"> Compute num_games_won / num_games_played over the whole season\n",
              "</label><br>\n",
              "  <input type=\"radio\" id=\"vehicle2\" name=\"vehicle\" value=\"Car\" checked>\n",
              "  <label for=\"vehicle2\"> Compute num_games_won / num_games_played until the N-1 th game in order to train with the label for the N th game\n",
              "</label><br>\n",
              " \n",
              "  <input type=\"radio\" id=\"vehicle4\" name=\"vehicle\" value=\"Boa4t\">\n",
              "  <label for=\"vehicle4\">Compute num_games_won / num_games_played until the N th game in order to train with the label for the N th game\n",
              "</label><br><br>\n",
              "</form>\n",
              "</body>\n",
              "</html>\n"
            ],
            "text/plain": [
              "<IPython.core.display.HTML object>"
            ]
          },
          "metadata": {
            "tags": []
          }
        },
        {
          "output_type": "display_data",
          "data": {
            "text/html": [
              "\n",
              "<h3>I want to build a model to predict whether Team A will win its basketball game against Team B. Which of these attributes (computed on historical basketball games) are good features? Assume that these features are all computed appropriately without taking into account non-causal data.</h3>\n",
              "\n",
              "<form action=\"/action_page.php\">\n",
              "  <input type=\"checkbox\" id=\"vehicle1\" name=\"vehicle1\" value=\"Bike\" checked>\n",
              "  <label for=\"vehicle1\"> How often Team A wins games\n",
              "</label><br>\n",
              "  <input type=\"checkbox\" id=\"vehicle2\" name=\"vehicle2\" value=\"Car\" checked>\n",
              "  <label for=\"vehicle2\"> How often Team A wins games where its opponent is ranked in the top 10\n",
              "</label><br>\n",
              " \n",
              "  <input type=\"checkbox\" id=\"vehicle4\" name=\"vehicle4\" value=\"Boa4t\" checked>\n",
              "  <label for=\"vehicle4\">How many of the last 7 games that Team A played that it has won</label><br>\n",
              "\n",
              "     <input type=\"checkbox\" id=\"vehicle2\" name=\"vehicle2\" value=\"Car\" checked>\n",
              "  <label for=\"vehicle2\"> The fraction of games that Team A won when it played against Team B when both teams had this exact set of players\n",
              "</label><br><br>\n",
              "</form>\n",
              "</body>\n",
              "</html>\n"
            ],
            "text/plain": [
              "<IPython.core.display.HTML object>"
            ]
          },
          "metadata": {
            "tags": []
          }
        }
      ]
    },
    {
      "cell_type": "code",
      "metadata": {
        "id": "9gdQixaXwwzL",
        "colab_type": "code",
        "colab": {}
      },
      "source": [
        ""
      ],
      "execution_count": 0,
      "outputs": []
    }
  ]
}