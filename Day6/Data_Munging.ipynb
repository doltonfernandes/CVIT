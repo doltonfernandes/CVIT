{
  "nbformat": 4,
  "nbformat_minor": 0,
  "metadata": {
    "colab": {
      "name": "Copy of Data_Munging.ipynb",
      "provenance": [],
      "collapsed_sections": []
    },
    "kernelspec": {
      "display_name": "Python 3",
      "language": "python",
      "name": "python3"
    }
  },
  "cells": [
    {
      "cell_type": "markdown",
      "metadata": {
        "id": "XvFEBIJwYD_Y",
        "colab_type": "text"
      },
      "source": [
        "#### Task overview\n",
        "We have a file that contains the gender, height and weight information. A typical line of the file is:\n",
        "\n",
        "\"Male\",66.3162319187446,170.593858104457\n",
        "\n",
        "We want to store all such lines in convenient data structures as three separate items and be able to manipulate them."
      ]
    },
    {
      "cell_type": "markdown",
      "metadata": {
        "id": "TRGuvzsMYLwb",
        "colab_type": "text"
      },
      "source": [
        "### Setup Steps"
      ]
    },
    {
      "cell_type": "code",
      "metadata": {
        "id": "ZxpjcYfxskaO",
        "colab_type": "code",
        "cellView": "form",
        "outputId": "8c1497ba-e0a1-4e27-de9e-cf89b93ec62f",
        "colab": {
          "base_uri": "https://localhost:8080/",
          "height": 34
        }
      },
      "source": [
        "#@title Run this cell to complete the setup for this Notebook\n",
        "from IPython import get_ipython\n",
        "\n",
        "ipython = get_ipython()\n",
        "\n",
        "\n",
        "#  ipython.magic(\"sx pip3 install torch\") \n",
        "ipython.magic(\"sx wget https://cdn.talentsprint.com/aiml/Experiment_related_data/Week0-part_gender_height_weight.csv\")\n",
        "ipython.magic(\"sx wget https://cdn.talentsprint.com/aiml/Experiment_related_data/Week0-full_gender_height_weight.csv\")\n",
        "from IPython.display import HTML, display\n",
        "# display(HTML('<script src=\"https://dashboard.talentsprint.com/aiml/record_ip.html?traineeId={0}&recordId={1}\"></script>'.format(getId(),submission_id)))\n",
        "print(\"Setup completed successfully\")\n",
        "\n",
        "\n"
      ],
      "execution_count": 1,
      "outputs": [
        {
          "output_type": "stream",
          "text": [
            "Setup completed successfully\n"
          ],
          "name": "stdout"
        }
      ]
    },
    {
      "cell_type": "code",
      "metadata": {
        "id": "LPV-ZL5QYD_e",
        "colab_type": "code",
        "outputId": "78d440e6-6698-4674-d936-5c0898f8ddf5",
        "colab": {
          "base_uri": "https://localhost:8080/",
          "height": 191
        }
      },
      "source": [
        "## We take a look at the contents of the file \n",
        "## by using the shell command head\n",
        "!head Week0-part_gender_height_weight.csv"
      ],
      "execution_count": 60,
      "outputs": [
        {
          "output_type": "stream",
          "text": [
            "\"Gender\",\"Height\",\"Weight\"\n",
            "\"Male\",69.1798576188774,192.014335412005\n",
            "\"Male\",66.4712752615182,172.773722928412\n",
            "\"Male\",66.202347706273,159.390323744187\n",
            "\"Male\",66.3162319187446,170.593858104457\n",
            "\"Male\",73.8153856882339,231.374508117238\n",
            "\"Male\",71.4189459863648,198.042483889936\n",
            "\"Male\",72.001732217799,196.214414481383\n",
            "\"Male\",67.2663627155588,192.4707695606\n",
            "\"Male\",63.6725831540933,161.013145838894\n"
          ],
          "name": "stdout"
        }
      ]
    },
    {
      "cell_type": "code",
      "metadata": {
        "id": "SUBAbIia8wg0",
        "colab_type": "code",
        "colab": {
          "base_uri": "https://localhost:8080/",
          "height": 191
        },
        "outputId": "ec48370d-ca2d-40ed-98d1-8102c06e8e95"
      },
      "source": [
        "!tail Week0-part_gender_height_weight.csv"
      ],
      "execution_count": 61,
      "outputs": [
        {
          "output_type": "stream",
          "text": [
            "\"Female\",67.519733141364,163.490831665133\n",
            "\"Female\",64.408825123937,139.604219139648\n",
            "\"Female\",65.0716653479706,137.629857954212\n",
            "\"Female\",61.5046182003953,122.286750997725\n",
            "\"Female\",62.788759576151,120.013226214053\n",
            "\"Female\",62.7434778192535,138.557941544823\n",
            "\"Female\",63.290223692792,133.292934706536\n",
            "\"Female\",62.7896653703462,132.230275678311\n",
            "\"Female\",64.863385916734,138.484541094995\n",
            "\"Female\",69.0342431307346,163.852461346571\n"
          ],
          "name": "stdout"
        }
      ]
    },
    {
      "cell_type": "markdown",
      "metadata": {
        "id": "r2rsOiejYD_j",
        "colab_type": "text"
      },
      "source": [
        "We start by simply reading the file and storing it. But we want to skip the first line as it is a header and does not have data. We also want to store the data instead of merely printing it. But we will print the first ten items to verify that all is well."
      ]
    },
    {
      "cell_type": "code",
      "metadata": {
        "id": "kER4ATmNYD_k",
        "colab_type": "code",
        "colab": {}
      },
      "source": [
        "PART_DATA = \"Week0-part_gender_height_weight.csv\"\n",
        "FULL_DATA = \"Week0-full_gender_height_weight.csv\""
      ],
      "execution_count": 0,
      "outputs": []
    },
    {
      "cell_type": "code",
      "metadata": {
        "id": "ulKDEpEzYD_o",
        "colab_type": "code",
        "outputId": "5d78f178-c126-4999-ce06-55277641e583",
        "colab": {
          "base_uri": "https://localhost:8080/",
          "height": 54
        }
      },
      "source": [
        "firstLine = True\n",
        "data = []\n",
        "for line in open(FULL_DATA):\n",
        "    if firstLine:\n",
        "        firstLine = False\n",
        "    else:\n",
        "        data.append(line)\n",
        "print(data[:10])"
      ],
      "execution_count": 63,
      "outputs": [
        {
          "output_type": "stream",
          "text": [
            "['\"Male\",73.847017017515,241.893563180437\\n', '\"Male\",68.7819040458903,162.310472521300\\n', '\"Male\",74.1101053917849,212.7408555565\\n', '\"Male\",71.7309784033377,220.042470303077\\n', '\"Male\",69.8817958611153,206.349800623871\\n', '\"Male\",67.2530156878065,152.212155757083\\n', '\"Male\",68.7850812516616,183.927888604031\\n', '\"Male\",68.3485155115879,167.971110489509\\n', '\"Male\",67.018949662883,175.92944039571\\n', '\"Male\",63.4564939783664,156.399676387112\\n']\n"
          ],
          "name": "stdout"
        }
      ]
    },
    {
      "cell_type": "markdown",
      "metadata": {
        "id": "2g8F-jC_YD_s",
        "colab_type": "text"
      },
      "source": [
        "As you can see, there are some extraneous stuff:\n",
        "  1. A \\n at the end of each line\n",
        "  2. The double quotes around the gender\n",
        "  3. Also the line is a single string separated by commas\n",
        "  \n",
        "We handle these issues in the next version "
      ]
    },
    {
      "cell_type": "markdown",
      "metadata": {
        "id": "7UJYyewULHdx",
        "colab_type": "text"
      },
      "source": [
        "### TASK 1: Read the different fields from the raw data and create a list of list with appropriate datatypes for each column."
      ]
    },
    {
      "cell_type": "code",
      "metadata": {
        "id": "f-e__NuQLCQZ",
        "colab_type": "code",
        "colab": {
          "base_uri": "https://localhost:8080/",
          "height": 54
        },
        "outputId": "2c10350f-a97d-4ea2-adc3-06fc8e49f458"
      },
      "source": [
        "def trim(x):\n",
        "  tmp = x.split('\\n')[0].split(',')\n",
        "  tmp[0] = str(tmp[0]).split('\"')[1]\n",
        "  tmp[1] = float(tmp[1])\n",
        "  tmp[2] = float(tmp[2])\n",
        "  return tmp\n",
        "\n",
        "def read_data(filename):\n",
        "  final_data = []\n",
        "  # Add code here\n",
        "  firstLine = True\n",
        "  for line in open(filename):\n",
        "      if firstLine:\n",
        "          firstLine = False\n",
        "      else:\n",
        "          final_data.append(trim(line))\n",
        "  return final_data\n",
        "\n",
        "data = read_data(FULL_DATA)\n",
        "print(data[:10])\n",
        "# NOTE: Data should be of format: [[\"Male\", 73.23, 241.34], [\"Female\", 56.32, 154.344], ....]\n"
      ],
      "execution_count": 64,
      "outputs": [
        {
          "output_type": "stream",
          "text": [
            "[['Male', 73.847017017515, 241.893563180437], ['Male', 68.7819040458903, 162.3104725213], ['Male', 74.1101053917849, 212.7408555565], ['Male', 71.7309784033377, 220.042470303077], ['Male', 69.8817958611153, 206.349800623871], ['Male', 67.2530156878065, 152.212155757083], ['Male', 68.7850812516616, 183.927888604031], ['Male', 68.3485155115879, 167.971110489509], ['Male', 67.018949662883, 175.92944039571], ['Male', 63.4564939783664, 156.399676387112]]\n"
          ],
          "name": "stdout"
        }
      ]
    },
    {
      "cell_type": "markdown",
      "metadata": {
        "id": "bVN9ab2LYD_x",
        "colab_type": "text"
      },
      "source": [
        "Now we need to convert inches to cm, pounds to kg and round these to the nearest integer and we are done. Here is the final code to do the same."
      ]
    },
    {
      "cell_type": "code",
      "metadata": {
        "id": "r-oOXVNTYD_z",
        "colab_type": "code",
        "colab": {
          "base_uri": "https://localhost:8080/",
          "height": 34
        },
        "outputId": "8eafece6-db6b-42fc-cd6c-45cf30d61b7f"
      },
      "source": [
        "def trim2(x):\n",
        "  tmp = x.split('\\n')[0].split(',')\n",
        "  tmp[0] = str(tmp[0]).split('\"')[1]\n",
        "  tmp[1] = round(float(tmp[1]) * 2.54)\n",
        "  tmp[2] = round(float(tmp[2]) * 0.453592)\n",
        "  return tmp\n",
        "\n",
        "def read_data_2(filename):\n",
        "  final_data = []\n",
        "  # Add code here, but also convert inches to cm and pounds to kg and round to nearest integer while reading.\n",
        "  #NOTE: 1 inch = 2.54 cm, 1 pound = 0.4536 kg\n",
        "  firstLine = True\n",
        "  for line in open(filename):\n",
        "      if firstLine:\n",
        "          firstLine = False\n",
        "      else:\n",
        "          final_data.append(trim2(line))\n",
        "  return final_data\n",
        "\n",
        "data = read_data_2(FULL_DATA)\n",
        "print(data[:10])"
      ],
      "execution_count": 65,
      "outputs": [
        {
          "output_type": "stream",
          "text": [
            "[['Male', 188, 110], ['Male', 175, 74], ['Male', 188, 96], ['Male', 182, 100], ['Male', 177, 94], ['Male', 171, 69], ['Male', 175, 83], ['Male', 174, 76], ['Male', 170, 80], ['Male', 161, 71]]\n"
          ],
          "name": "stdout"
        }
      ]
    },
    {
      "cell_type": "markdown",
      "metadata": {
        "id": "7aieSly2YD_3",
        "colab_type": "text"
      },
      "source": [
        "One reason python is popular for Scientific Computing is the availability of libraries that do a lot of standard, grunt work in a few lines. We will see how the pandas library can make short work of all the above"
      ]
    },
    {
      "cell_type": "code",
      "metadata": {
        "id": "ixXqhUglYD_4",
        "colab_type": "code",
        "colab": {
          "base_uri": "https://localhost:8080/",
          "height": 424
        },
        "outputId": "c8b5f236-4cd3-4653-e4b7-4cc30bd9a7d1"
      },
      "source": [
        "import pandas as pd\n",
        "pd.read_csv(PART_DATA)"
      ],
      "execution_count": 66,
      "outputs": [
        {
          "output_type": "execute_result",
          "data": {
            "text/html": [
              "<div>\n",
              "<style scoped>\n",
              "    .dataframe tbody tr th:only-of-type {\n",
              "        vertical-align: middle;\n",
              "    }\n",
              "\n",
              "    .dataframe tbody tr th {\n",
              "        vertical-align: top;\n",
              "    }\n",
              "\n",
              "    .dataframe thead th {\n",
              "        text-align: right;\n",
              "    }\n",
              "</style>\n",
              "<table border=\"1\" class=\"dataframe\">\n",
              "  <thead>\n",
              "    <tr style=\"text-align: right;\">\n",
              "      <th></th>\n",
              "      <th>Gender</th>\n",
              "      <th>Height</th>\n",
              "      <th>Weight</th>\n",
              "    </tr>\n",
              "  </thead>\n",
              "  <tbody>\n",
              "    <tr>\n",
              "      <th>0</th>\n",
              "      <td>Male</td>\n",
              "      <td>69.179858</td>\n",
              "      <td>192.014335</td>\n",
              "    </tr>\n",
              "    <tr>\n",
              "      <th>1</th>\n",
              "      <td>Male</td>\n",
              "      <td>66.471275</td>\n",
              "      <td>172.773723</td>\n",
              "    </tr>\n",
              "    <tr>\n",
              "      <th>2</th>\n",
              "      <td>Male</td>\n",
              "      <td>66.202348</td>\n",
              "      <td>159.390324</td>\n",
              "    </tr>\n",
              "    <tr>\n",
              "      <th>3</th>\n",
              "      <td>Male</td>\n",
              "      <td>66.316232</td>\n",
              "      <td>170.593858</td>\n",
              "    </tr>\n",
              "    <tr>\n",
              "      <th>4</th>\n",
              "      <td>Male</td>\n",
              "      <td>73.815386</td>\n",
              "      <td>231.374508</td>\n",
              "    </tr>\n",
              "    <tr>\n",
              "      <th>...</th>\n",
              "      <td>...</td>\n",
              "      <td>...</td>\n",
              "      <td>...</td>\n",
              "    </tr>\n",
              "    <tr>\n",
              "      <th>195</th>\n",
              "      <td>Female</td>\n",
              "      <td>62.743478</td>\n",
              "      <td>138.557942</td>\n",
              "    </tr>\n",
              "    <tr>\n",
              "      <th>196</th>\n",
              "      <td>Female</td>\n",
              "      <td>63.290224</td>\n",
              "      <td>133.292935</td>\n",
              "    </tr>\n",
              "    <tr>\n",
              "      <th>197</th>\n",
              "      <td>Female</td>\n",
              "      <td>62.789665</td>\n",
              "      <td>132.230276</td>\n",
              "    </tr>\n",
              "    <tr>\n",
              "      <th>198</th>\n",
              "      <td>Female</td>\n",
              "      <td>64.863386</td>\n",
              "      <td>138.484541</td>\n",
              "    </tr>\n",
              "    <tr>\n",
              "      <th>199</th>\n",
              "      <td>Female</td>\n",
              "      <td>69.034243</td>\n",
              "      <td>163.852461</td>\n",
              "    </tr>\n",
              "  </tbody>\n",
              "</table>\n",
              "<p>200 rows × 3 columns</p>\n",
              "</div>"
            ],
            "text/plain": [
              "     Gender     Height      Weight\n",
              "0      Male  69.179858  192.014335\n",
              "1      Male  66.471275  172.773723\n",
              "2      Male  66.202348  159.390324\n",
              "3      Male  66.316232  170.593858\n",
              "4      Male  73.815386  231.374508\n",
              "..      ...        ...         ...\n",
              "195  Female  62.743478  138.557942\n",
              "196  Female  63.290224  133.292935\n",
              "197  Female  62.789665  132.230276\n",
              "198  Female  64.863386  138.484541\n",
              "199  Female  69.034243  163.852461\n",
              "\n",
              "[200 rows x 3 columns]"
            ]
          },
          "metadata": {
            "tags": []
          },
          "execution_count": 66
        }
      ]
    },
    {
      "cell_type": "markdown",
      "metadata": {
        "id": "esEj3TzGYD_9",
        "colab_type": "text"
      },
      "source": [
        "As you can see, pandas gives you a nice display! It figured out the column titles and numbered the data also. It actually loads the data into a dataframe, and we can treat each column as a dictionary whose key is the column name and value is the actual data in the column. Note that the datatype has been inferred too."
      ]
    },
    {
      "cell_type": "code",
      "metadata": {
        "id": "LtMKJ3F6YD__",
        "colab_type": "code",
        "colab": {
          "base_uri": "https://localhost:8080/",
          "height": 34
        },
        "outputId": "2531bf2e-eaf5-43fe-b59b-fcfc8d7a3ed9"
      },
      "source": [
        "data = pd.read_csv(FULL_DATA)\n",
        "type(data['Gender']), type(data['Height'][1]), type(data['Weight'][30])"
      ],
      "execution_count": 67,
      "outputs": [
        {
          "output_type": "execute_result",
          "data": {
            "text/plain": [
              "(pandas.core.series.Series, numpy.float64, numpy.float64)"
            ]
          },
          "metadata": {
            "tags": []
          },
          "execution_count": 67
        }
      ]
    },
    {
      "cell_type": "code",
      "metadata": {
        "id": "6CtN_XiItRHz",
        "colab_type": "code",
        "colab": {
          "base_uri": "https://localhost:8080/",
          "height": 34
        },
        "outputId": "1d9afee7-f75d-4d80-d772-f5b0b79f5fde"
      },
      "source": [
        "data[\"Gender\"][21]"
      ],
      "execution_count": 68,
      "outputs": [
        {
          "output_type": "execute_result",
          "data": {
            "text/plain": [
              "'Male'"
            ]
          },
          "metadata": {
            "tags": []
          },
          "execution_count": 68
        }
      ]
    },
    {
      "cell_type": "code",
      "metadata": {
        "id": "r17T2k1YYEAI",
        "colab_type": "code",
        "colab": {
          "base_uri": "https://localhost:8080/",
          "height": 225
        },
        "outputId": "fb98d526-e326-4682-d0bb-4e753aa5ed92"
      },
      "source": [
        "data.Weight"
      ],
      "execution_count": 69,
      "outputs": [
        {
          "output_type": "execute_result",
          "data": {
            "text/plain": [
              "0       241.893563\n",
              "1       162.310473\n",
              "2       212.740856\n",
              "3       220.042470\n",
              "4       206.349801\n",
              "           ...    \n",
              "9995    136.777454\n",
              "9996    170.867906\n",
              "9997    128.475319\n",
              "9998    163.852461\n",
              "9999    113.649103\n",
              "Name: Weight, Length: 10000, dtype: float64"
            ]
          },
          "metadata": {
            "tags": []
          },
          "execution_count": 69
        }
      ]
    },
    {
      "cell_type": "code",
      "metadata": {
        "id": "p8QYKPM3ShBV",
        "colab_type": "code",
        "colab": {
          "base_uri": "https://localhost:8080/",
          "height": 225
        },
        "outputId": "24897f7c-dbd8-4e89-af71-185884cbf6d2"
      },
      "source": [
        "df = pd.read_csv(PART_DATA, header=0, names=[\"GEN\", \"HT\", \"WT\"])\n",
        "df.GEN"
      ],
      "execution_count": 70,
      "outputs": [
        {
          "output_type": "execute_result",
          "data": {
            "text/plain": [
              "0        Male\n",
              "1        Male\n",
              "2        Male\n",
              "3        Male\n",
              "4        Male\n",
              "        ...  \n",
              "195    Female\n",
              "196    Female\n",
              "197    Female\n",
              "198    Female\n",
              "199    Female\n",
              "Name: GEN, Length: 200, dtype: object"
            ]
          },
          "metadata": {
            "tags": []
          },
          "execution_count": 70
        }
      ]
    },
    {
      "cell_type": "markdown",
      "metadata": {
        "id": "5uQ8gTIFYEAM",
        "colab_type": "text"
      },
      "source": [
        "Pandas gives you even more flexibility as part of the read_csv function. We can attach converters to selected columns. "
      ]
    },
    {
      "cell_type": "code",
      "metadata": {
        "id": "0vKu3MiYYEAN",
        "colab_type": "code",
        "colab": {}
      },
      "source": [
        "def inches2cms(s):\n",
        "    return int(float(s) * 2.54 + 0.5)\n",
        "def pounds2kgs(s):\n",
        "    return int(float(s) * 0.4536 + 0.5)"
      ],
      "execution_count": 0,
      "outputs": []
    },
    {
      "cell_type": "code",
      "metadata": {
        "id": "NHVW1d9cYEAS",
        "colab_type": "code",
        "colab": {
          "base_uri": "https://localhost:8080/",
          "height": 424
        },
        "outputId": "b6a84a25-e360-48d9-c608-4e131094d133"
      },
      "source": [
        "pd.read_csv(FULL_DATA, converters={'Height':inches2cms, 'Weight':pounds2kgs})"
      ],
      "execution_count": 72,
      "outputs": [
        {
          "output_type": "execute_result",
          "data": {
            "text/html": [
              "<div>\n",
              "<style scoped>\n",
              "    .dataframe tbody tr th:only-of-type {\n",
              "        vertical-align: middle;\n",
              "    }\n",
              "\n",
              "    .dataframe tbody tr th {\n",
              "        vertical-align: top;\n",
              "    }\n",
              "\n",
              "    .dataframe thead th {\n",
              "        text-align: right;\n",
              "    }\n",
              "</style>\n",
              "<table border=\"1\" class=\"dataframe\">\n",
              "  <thead>\n",
              "    <tr style=\"text-align: right;\">\n",
              "      <th></th>\n",
              "      <th>Gender</th>\n",
              "      <th>Height</th>\n",
              "      <th>Weight</th>\n",
              "    </tr>\n",
              "  </thead>\n",
              "  <tbody>\n",
              "    <tr>\n",
              "      <th>0</th>\n",
              "      <td>Male</td>\n",
              "      <td>188</td>\n",
              "      <td>110</td>\n",
              "    </tr>\n",
              "    <tr>\n",
              "      <th>1</th>\n",
              "      <td>Male</td>\n",
              "      <td>175</td>\n",
              "      <td>74</td>\n",
              "    </tr>\n",
              "    <tr>\n",
              "      <th>2</th>\n",
              "      <td>Male</td>\n",
              "      <td>188</td>\n",
              "      <td>96</td>\n",
              "    </tr>\n",
              "    <tr>\n",
              "      <th>3</th>\n",
              "      <td>Male</td>\n",
              "      <td>182</td>\n",
              "      <td>100</td>\n",
              "    </tr>\n",
              "    <tr>\n",
              "      <th>4</th>\n",
              "      <td>Male</td>\n",
              "      <td>177</td>\n",
              "      <td>94</td>\n",
              "    </tr>\n",
              "    <tr>\n",
              "      <th>...</th>\n",
              "      <td>...</td>\n",
              "      <td>...</td>\n",
              "      <td>...</td>\n",
              "    </tr>\n",
              "    <tr>\n",
              "      <th>9995</th>\n",
              "      <td>Female</td>\n",
              "      <td>168</td>\n",
              "      <td>62</td>\n",
              "    </tr>\n",
              "    <tr>\n",
              "      <th>9996</th>\n",
              "      <td>Female</td>\n",
              "      <td>170</td>\n",
              "      <td>78</td>\n",
              "    </tr>\n",
              "    <tr>\n",
              "      <th>9997</th>\n",
              "      <td>Female</td>\n",
              "      <td>162</td>\n",
              "      <td>58</td>\n",
              "    </tr>\n",
              "    <tr>\n",
              "      <th>9998</th>\n",
              "      <td>Female</td>\n",
              "      <td>175</td>\n",
              "      <td>74</td>\n",
              "    </tr>\n",
              "    <tr>\n",
              "      <th>9999</th>\n",
              "      <td>Female</td>\n",
              "      <td>157</td>\n",
              "      <td>52</td>\n",
              "    </tr>\n",
              "  </tbody>\n",
              "</table>\n",
              "<p>10000 rows × 3 columns</p>\n",
              "</div>"
            ],
            "text/plain": [
              "      Gender  Height  Weight\n",
              "0       Male     188     110\n",
              "1       Male     175      74\n",
              "2       Male     188      96\n",
              "3       Male     182     100\n",
              "4       Male     177      94\n",
              "...      ...     ...     ...\n",
              "9995  Female     168      62\n",
              "9996  Female     170      78\n",
              "9997  Female     162      58\n",
              "9998  Female     175      74\n",
              "9999  Female     157      52\n",
              "\n",
              "[10000 rows x 3 columns]"
            ]
          },
          "metadata": {
            "tags": []
          },
          "execution_count": 72
        }
      ]
    },
    {
      "cell_type": "markdown",
      "metadata": {
        "id": "sosLKGdxYEAV",
        "colab_type": "text"
      },
      "source": [
        "So our final code will be"
      ]
    },
    {
      "cell_type": "code",
      "metadata": {
        "id": "ZoZ060PkYEAW",
        "colab_type": "code",
        "colab": {
          "base_uri": "https://localhost:8080/",
          "height": 363
        },
        "outputId": "a7d4ce09-1c2b-4154-957e-e6d3923bcba1"
      },
      "source": [
        "import pandas as pd\n",
        "\n",
        "def inches2cms(s):\n",
        "    return int(float(s) * 2.54 + 0.5)\n",
        "def pounds2kgs(s):\n",
        "    return int(float(s) * 0.4536 + 0.5)\n",
        "data = pd.read_csv(FULL_DATA, converters={'Height':inches2cms, 'Weight':pounds2kgs})\n",
        "data[:10]"
      ],
      "execution_count": 73,
      "outputs": [
        {
          "output_type": "execute_result",
          "data": {
            "text/html": [
              "<div>\n",
              "<style scoped>\n",
              "    .dataframe tbody tr th:only-of-type {\n",
              "        vertical-align: middle;\n",
              "    }\n",
              "\n",
              "    .dataframe tbody tr th {\n",
              "        vertical-align: top;\n",
              "    }\n",
              "\n",
              "    .dataframe thead th {\n",
              "        text-align: right;\n",
              "    }\n",
              "</style>\n",
              "<table border=\"1\" class=\"dataframe\">\n",
              "  <thead>\n",
              "    <tr style=\"text-align: right;\">\n",
              "      <th></th>\n",
              "      <th>Gender</th>\n",
              "      <th>Height</th>\n",
              "      <th>Weight</th>\n",
              "    </tr>\n",
              "  </thead>\n",
              "  <tbody>\n",
              "    <tr>\n",
              "      <th>0</th>\n",
              "      <td>Male</td>\n",
              "      <td>188</td>\n",
              "      <td>110</td>\n",
              "    </tr>\n",
              "    <tr>\n",
              "      <th>1</th>\n",
              "      <td>Male</td>\n",
              "      <td>175</td>\n",
              "      <td>74</td>\n",
              "    </tr>\n",
              "    <tr>\n",
              "      <th>2</th>\n",
              "      <td>Male</td>\n",
              "      <td>188</td>\n",
              "      <td>96</td>\n",
              "    </tr>\n",
              "    <tr>\n",
              "      <th>3</th>\n",
              "      <td>Male</td>\n",
              "      <td>182</td>\n",
              "      <td>100</td>\n",
              "    </tr>\n",
              "    <tr>\n",
              "      <th>4</th>\n",
              "      <td>Male</td>\n",
              "      <td>177</td>\n",
              "      <td>94</td>\n",
              "    </tr>\n",
              "    <tr>\n",
              "      <th>5</th>\n",
              "      <td>Male</td>\n",
              "      <td>171</td>\n",
              "      <td>69</td>\n",
              "    </tr>\n",
              "    <tr>\n",
              "      <th>6</th>\n",
              "      <td>Male</td>\n",
              "      <td>175</td>\n",
              "      <td>83</td>\n",
              "    </tr>\n",
              "    <tr>\n",
              "      <th>7</th>\n",
              "      <td>Male</td>\n",
              "      <td>174</td>\n",
              "      <td>76</td>\n",
              "    </tr>\n",
              "    <tr>\n",
              "      <th>8</th>\n",
              "      <td>Male</td>\n",
              "      <td>170</td>\n",
              "      <td>80</td>\n",
              "    </tr>\n",
              "    <tr>\n",
              "      <th>9</th>\n",
              "      <td>Male</td>\n",
              "      <td>161</td>\n",
              "      <td>71</td>\n",
              "    </tr>\n",
              "  </tbody>\n",
              "</table>\n",
              "</div>"
            ],
            "text/plain": [
              "  Gender  Height  Weight\n",
              "0   Male     188     110\n",
              "1   Male     175      74\n",
              "2   Male     188      96\n",
              "3   Male     182     100\n",
              "4   Male     177      94\n",
              "5   Male     171      69\n",
              "6   Male     175      83\n",
              "7   Male     174      76\n",
              "8   Male     170      80\n",
              "9   Male     161      71"
            ]
          },
          "metadata": {
            "tags": []
          },
          "execution_count": 73
        }
      ]
    },
    {
      "cell_type": "markdown",
      "metadata": {
        "collapsed": true,
        "id": "sSJ6H1yrYEAd",
        "colab_type": "text"
      },
      "source": [
        "### Plotting Excercises\n"
      ]
    },
    {
      "cell_type": "markdown",
      "metadata": {
        "id": "LOq0zW03PBwD",
        "colab_type": "text"
      },
      "source": [
        "Plot the height and weight of the samples in a scatter plot with different markers/colors for male and female."
      ]
    },
    {
      "cell_type": "code",
      "metadata": {
        "id": "IfdWvCgUYEAj",
        "colab_type": "code",
        "colab": {
          "base_uri": "https://localhost:8080/",
          "height": 296
        },
        "outputId": "8f4a30e6-e3ca-43b4-880d-eac5eac8ab40"
      },
      "source": [
        "# Code here\n",
        "data.plot.scatter(x='Height', y='Weight', c= data.Gender.map({'Male':'b', 'Female':'r'}), s = 2)"
      ],
      "execution_count": 74,
      "outputs": [
        {
          "output_type": "execute_result",
          "data": {
            "text/plain": [
              "<matplotlib.axes._subplots.AxesSubplot at 0x7f670ee36128>"
            ]
          },
          "metadata": {
            "tags": []
          },
          "execution_count": 74
        },
        {
          "output_type": "display_data",
          "data": {
            "image/png": "[encoded data removed]",
            "text/plain": [
              "<Figure size 432x288 with 1 Axes>"
            ]
          },
          "metadata": {
            "tags": [],
            "needs_background": "light"
          }
        }
      ]
    },
    {
      "cell_type": "markdown",
      "metadata": {
        "id": "7CPx-CgrPUIO",
        "colab_type": "text"
      },
      "source": [
        "Plot the height and weight of all samples in a scatter plot. Include markers for people who are overweight. Men with weight > 100 ad women with weight > 80 can be considered overweight."
      ]
    },
    {
      "cell_type": "code",
      "metadata": {
        "id": "oJ0ZPXXYYEAn",
        "colab_type": "code",
        "colab": {
          "base_uri": "https://localhost:8080/",
          "height": 296
        },
        "outputId": "d36e7ccd-224a-4b1a-c7e5-adaba3121a12"
      },
      "source": [
        "# Code here\n",
        "colrs = []\n",
        "for i in range(len(data)):\n",
        "  f = (data.loc[i, \"Gender\"] == 'Male' and data.loc[i, \"Weight\"] > 100) or (data.loc[i, \"Gender\"] == 'Female' and data.loc[i, \"Weight\"] > 80)\n",
        "  colrs.append('r' if f else 'b')\n",
        "data.plot.scatter(x = 'Height', y = 'Weight', c = colrs, s = 2)"
      ],
      "execution_count": 75,
      "outputs": [
        {
          "output_type": "execute_result",
          "data": {
            "text/plain": [
              "<matplotlib.axes._subplots.AxesSubplot at 0x7f670efa97f0>"
            ]
          },
          "metadata": {
            "tags": []
          },
          "execution_count": 75
        },
        {
          "output_type": "display_data",
          "data": {
            "image/png": "[encoded data removed]",
            "text/plain": [
              "<Figure size 432x288 with 1 Axes>"
            ]
          },
          "metadata": {
            "tags": [],
            "needs_background": "light"
          }
        }
      ]
    },
    {
      "cell_type": "markdown",
      "metadata": {
        "colab_type": "text",
        "id": "7V0azfEyQQop"
      },
      "source": [
        "Plot box plots for height in men and women. You can read more about box plots here: https://towardsdatascience.com/understanding-boxplots-5e2df7bcbd51"
      ]
    },
    {
      "cell_type": "code",
      "metadata": {
        "id": "LDAl0Dn7YEAs",
        "colab_type": "code",
        "colab": {
          "base_uri": "https://localhost:8080/",
          "height": 296
        },
        "outputId": "2ccd220e-8fcf-424a-bdd1-b6ff6553f84c"
      },
      "source": [
        "# Code here\n",
        "import seaborn as sns\n",
        "sns.boxplot(x='Gender', y='Height', data=data)"
      ],
      "execution_count": 76,
      "outputs": [
        {
          "output_type": "execute_result",
          "data": {
            "text/plain": [
              "<matplotlib.axes._subplots.AxesSubplot at 0x7f670ee36e80>"
            ]
          },
          "metadata": {
            "tags": []
          },
          "execution_count": 76
        },
        {
          "output_type": "display_data",
          "data": {
            "image/png": "[encoded data removed]",
            "text/plain": [
              "<Figure size 432x288 with 1 Axes>"
            ]
          },
          "metadata": {
            "tags": [],
            "needs_background": "light"
          }
        }
      ]
    }
  ]
}