{
  "nbformat": 4,
  "nbformat_minor": 0,
  "metadata": {
    "colab": {
      "name": "Copy of KNN_Iris_data.ipynb",
      "provenance": [],
      "collapsed_sections": []
    },
    "kernelspec": {
      "name": "python3",
      "display_name": "Python 3"
    },
    "accelerator": "GPU"
  },
  "cells": [
    {
      "cell_type": "markdown",
      "metadata": {
        "id": "VTMfvxuSrLUR",
        "colab_type": "text"
      },
      "source": [
        "## Dataset"
      ]
    },
    {
      "cell_type": "markdown",
      "metadata": {
        "id": "Kz2T6C2MrPp6",
        "colab_type": "text"
      },
      "source": [
        "#### History\n",
        "\n",
        "This is a multivariate dataset introduced by R.A.Fisher (Father of Modern Statistics) for showcasing linear discriminant analysis. This is arguably the best known dataset in Feature Selection literature.\n",
        "\n",
        "\n",
        "The data set contains 3 classes of 50 instances each, where each class refers to a type of iris plant. One class is linearly separable from the other 2; the latter are NOT linearly separable from each other. "
      ]
    },
    {
      "cell_type": "markdown",
      "metadata": {
        "id": "62AAQoRKrQIK",
        "colab_type": "text"
      },
      "source": [
        "#### Description\n",
        "The Iris dataset consists of 150 data instances. There are 3 classes (Iris Versicolor, Iris Setosa and Iris Virginica) each have 50 instances. \n",
        "\n",
        "\n",
        "For each flower we have the below data attributes \n",
        "\n",
        "- sepal length in cm\n",
        "- sepal width in cm\n",
        "- petal length in cm\n",
        "- petal width in cm\n",
        "\n",
        "To make our experiment easy we rename the classes  with numbers : \n",
        "\n",
        "    \"0\": setosa\n",
        "    \"1\": versicolor\n",
        "    \"2\": virginica\n",
        "    "
      ]
    },
    {
      "cell_type": "markdown",
      "metadata": {
        "id": "J-KMXJrArUFg",
        "colab_type": "text"
      },
      "source": [
        "### Challenges\n",
        "\n",
        "When we use the data with large number of features or dimensionality, models usually choke because\n",
        "\n",
        "    1. Training time increases exponentially with number of features.\n",
        "    2. Models have increasing risk of overfitting with increasing number of features.\n",
        "    \n",
        "To avoid the above mentioned problems while learning about data analysis, we use simple, well behaved, data that reduces the cognitive load, and makes it easier to debug as we are able to better comprehend the data we are working with.  \n",
        "\n",
        "Hence, this is a good dataset to work on."
      ]
    },
    {
      "cell_type": "markdown",
      "metadata": {
        "id": "06lEbv7grYmm",
        "colab_type": "text"
      },
      "source": [
        "## Domain Information"
      ]
    },
    {
      "cell_type": "markdown",
      "metadata": {
        "id": "QIB3dtlNrWy6",
        "colab_type": "text"
      },
      "source": [
        "\n",
        "\n",
        "Iris Plants are flowering plants with showy flowers. They are very popular among movie directors as it gives excellent background. \n",
        "\n",
        "They are predominantly found in dry, semi-desert, or colder rocky mountainous areas in Europe and Asia. They have long, erect flowering stems and can produce white, yellow, orange, pink, purple, lavender, blue or brown colored flowers. There are 260 to 300 types of iris.\n",
        "\n",
        "![alt text](https://cdn-images-1.medium.com/max/1275/1*7bnLKsChXq94QjtAiRn40w.png)\n",
        "\n",
        "As you could see, flowers have 3 sepals and 3 petals.  The sepals are usually spreading or drop downwards and the petals stand upright, partly behind the sepal bases. However, the length and width of the sepals and petals vary for each type.\n"
      ]
    },
    {
      "cell_type": "markdown",
      "metadata": {
        "id": "s3y2Exi10krJ",
        "colab_type": "text"
      },
      "source": [
        "### Setup Steps"
      ]
    },
    {
      "cell_type": "code",
      "metadata": {
        "id": "UyXv7drCezRm",
        "colab_type": "code",
        "cellView": "form",
        "outputId": "47daec97-5f57-4890-927f-02256a2a3e71",
        "colab": {
          "base_uri": "https://localhost:8080/",
          "height": 34
        }
      },
      "source": [
        "#@title Run this cell to complete the setup for this Notebook\n",
        "from IPython import get_ipython\n",
        "\n",
        "ipython = get_ipython()\n",
        "\n",
        "ipython.magic(\"sx apt-get install graphviz\")\n",
        "ipython.magic(\"sx pip install graphviz\")\n"
      ],
      "execution_count": 28,
      "outputs": [
        {
          "output_type": "execute_result",
          "data": {
            "text/plain": [
              "['Requirement already satisfied: graphviz in /usr/local/lib/python3.6/dist-packages (0.10.1)']"
            ]
          },
          "metadata": {
            "tags": []
          },
          "execution_count": 28
        }
      ]
    },
    {
      "cell_type": "markdown",
      "metadata": {
        "id": "Y9pFXqtfbcxG",
        "colab_type": "text"
      },
      "source": [
        "#### Importing Required Packages"
      ]
    },
    {
      "cell_type": "code",
      "metadata": {
        "id": "hOiKa2ma0iXG",
        "colab_type": "code",
        "colab": {}
      },
      "source": [
        "import numpy as np\n",
        "import matplotlib.pyplot as plt\n",
        "from sklearn.datasets import load_iris"
      ],
      "execution_count": 0,
      "outputs": []
    },
    {
      "cell_type": "markdown",
      "metadata": {
        "id": "WW2MIcyYbp3R",
        "colab_type": "text"
      },
      "source": [
        "#### Loading the data"
      ]
    },
    {
      "cell_type": "code",
      "metadata": {
        "id": "ahaXITNN0iXM",
        "colab_type": "code",
        "colab": {}
      },
      "source": [
        "# Load data\n",
        "iris = load_iris()"
      ],
      "execution_count": 0,
      "outputs": []
    },
    {
      "cell_type": "code",
      "metadata": {
        "id": "xVmjqSLl7BVE",
        "colab_type": "code",
        "outputId": "82a513ac-af60-48c5-9451-05bc076e4ca5",
        "colab": {
          "base_uri": "https://localhost:8080/",
          "height": 34
        }
      },
      "source": [
        "# Checking for the type of iris\n",
        "print(type(iris))"
      ],
      "execution_count": 31,
      "outputs": [
        {
          "output_type": "stream",
          "text": [
            "<class 'sklearn.utils.Bunch'>\n"
          ],
          "name": "stdout"
        }
      ]
    },
    {
      "cell_type": "code",
      "metadata": {
        "id": "IBTq2Nq77FXX",
        "colab_type": "code",
        "outputId": "22606c85-e864-47e0-ce15-ac9ca4671360",
        "colab": {
          "base_uri": "https://localhost:8080/",
          "height": 34
        }
      },
      "source": [
        "# Checking the keys\n",
        "print(iris.keys())"
      ],
      "execution_count": 32,
      "outputs": [
        {
          "output_type": "stream",
          "text": [
            "dict_keys(['data', 'target', 'target_names', 'DESCR', 'feature_names', 'filename'])\n"
          ],
          "name": "stdout"
        }
      ]
    },
    {
      "cell_type": "code",
      "metadata": {
        "id": "ToZ3tlUF7K55",
        "colab_type": "code",
        "outputId": "717cecf7-611e-4edc-92f9-254835fabf0c",
        "colab": {
          "base_uri": "https://localhost:8080/",
          "height": 34
        }
      },
      "source": [
        "# Checking for the type of data\n",
        "print(type(iris.data))"
      ],
      "execution_count": 33,
      "outputs": [
        {
          "output_type": "stream",
          "text": [
            "<class 'numpy.ndarray'>\n"
          ],
          "name": "stdout"
        }
      ]
    },
    {
      "cell_type": "code",
      "metadata": {
        "id": "7uoeDccj7O2r",
        "colab_type": "code",
        "outputId": "25bdc0c0-0035-4d2f-9320-e8c45362d915",
        "colab": {
          "base_uri": "https://localhost:8080/",
          "height": 34
        }
      },
      "source": [
        "# Checking for unique target or class values\n",
        "print(set(iris.target))"
      ],
      "execution_count": 34,
      "outputs": [
        {
          "output_type": "stream",
          "text": [
            "{0, 1, 2}\n"
          ],
          "name": "stdout"
        }
      ]
    },
    {
      "cell_type": "code",
      "metadata": {
        "id": "2HKXHXoi0iXT",
        "colab_type": "code",
        "outputId": "d831f33e-a79b-4345-b5fe-81aa6e609a3e",
        "colab": {
          "base_uri": "https://localhost:8080/",
          "height": 191
        }
      },
      "source": [
        "# Let us see how the iris data looks\n",
        "print(iris.data[::15])"
      ],
      "execution_count": 35,
      "outputs": [
        {
          "output_type": "stream",
          "text": [
            "[[5.1 3.5 1.4 0.2]\n",
            " [5.7 4.4 1.5 0.4]\n",
            " [4.8 3.1 1.6 0.2]\n",
            " [4.8 3.  1.4 0.3]\n",
            " [5.  2.  3.5 1. ]\n",
            " [6.6 3.  4.4 1.4]\n",
            " [5.5 2.6 4.4 1.2]\n",
            " [7.6 3.  6.6 2.1]\n",
            " [6.9 3.2 5.7 2.3]\n",
            " [7.7 3.  6.1 2.3]]\n"
          ],
          "name": "stdout"
        }
      ]
    },
    {
      "cell_type": "code",
      "metadata": {
        "id": "lVws1ElL7ZVD",
        "colab_type": "code",
        "outputId": "f4962dcb-3066-4ff8-d772-dc9b4a43b2b8",
        "colab": {
          "base_uri": "https://localhost:8080/",
          "height": 34
        }
      },
      "source": [
        "# Let us see how the labels \n",
        "print(iris.target[::15])"
      ],
      "execution_count": 36,
      "outputs": [
        {
          "output_type": "stream",
          "text": [
            "[0 0 0 0 1 1 1 2 2 2]\n"
          ],
          "name": "stdout"
        }
      ]
    },
    {
      "cell_type": "code",
      "metadata": {
        "id": "huEVABwD76Lh",
        "colab_type": "code",
        "colab": {}
      },
      "source": [
        "# Storing the data and labels into \"X\" and \"y\" varaibles\n",
        "X = iris.data\n",
        "y = iris.target"
      ],
      "execution_count": 0,
      "outputs": []
    },
    {
      "cell_type": "markdown",
      "metadata": {
        "id": "I7U-Twt17lbo",
        "colab_type": "text"
      },
      "source": [
        "### Splitting the data into train and test sets "
      ]
    },
    {
      "cell_type": "code",
      "metadata": {
        "id": "jjP5s4zX7vyL",
        "colab_type": "code",
        "colab": {}
      },
      "source": [
        "from sklearn.model_selection import train_test_split"
      ],
      "execution_count": 0,
      "outputs": []
    },
    {
      "cell_type": "code",
      "metadata": {
        "id": "LK8VJHlv71Bd",
        "colab_type": "code",
        "colab": {}
      },
      "source": [
        "# Training and testing set ratio is 70 : 30\n",
        "X_train, X_test, y_train, y_test = train_test_split(X, y, test_size=0.33, random_state=42)"
      ],
      "execution_count": 0,
      "outputs": []
    },
    {
      "cell_type": "code",
      "metadata": {
        "id": "-t0sCcrA8Mhq",
        "colab_type": "code",
        "outputId": "18219266-1bae-4aa2-8264-074d0cda492e",
        "colab": {
          "base_uri": "https://localhost:8080/",
          "height": 34
        }
      },
      "source": [
        "# Let us see the size of train and  test sets\n",
        "X_train.shape, X_test.shape"
      ],
      "execution_count": 40,
      "outputs": [
        {
          "output_type": "execute_result",
          "data": {
            "text/plain": [
              "((100, 4), (50, 4))"
            ]
          },
          "metadata": {
            "tags": []
          },
          "execution_count": 40
        }
      ]
    },
    {
      "cell_type": "code",
      "metadata": {
        "id": "v92X7J-68Vdc",
        "colab_type": "code",
        "outputId": "60984a02-ebc8-47b5-be80-6569ecc1cc32",
        "colab": {
          "base_uri": "https://localhost:8080/",
          "height": 104
        }
      },
      "source": [
        "# Let us see first five rows of the training data\n",
        "X_train[:5]"
      ],
      "execution_count": 41,
      "outputs": [
        {
          "output_type": "execute_result",
          "data": {
            "text/plain": [
              "array([[5.7, 2.9, 4.2, 1.3],\n",
              "       [7.6, 3. , 6.6, 2.1],\n",
              "       [5.6, 3. , 4.5, 1.5],\n",
              "       [5.1, 3.5, 1.4, 0.2],\n",
              "       [7.7, 2.8, 6.7, 2. ]])"
            ]
          },
          "metadata": {
            "tags": []
          },
          "execution_count": 41
        }
      ]
    },
    {
      "cell_type": "markdown",
      "metadata": {
        "id": "EFpCi8-jbyOO",
        "colab_type": "text"
      },
      "source": [
        "### Training a  Knn Classifier "
      ]
    },
    {
      "cell_type": "code",
      "metadata": {
        "id": "CJ1mY7jB8iMv",
        "colab_type": "code",
        "colab": {}
      },
      "source": [
        "from sklearn.neighbors import KNeighborsClassifier"
      ],
      "execution_count": 0,
      "outputs": []
    },
    {
      "cell_type": "code",
      "metadata": {
        "id": "5sNJ0RcK8neX",
        "colab_type": "code",
        "outputId": "4141ae4e-5a17-4206-ab62-8f08726088af",
        "colab": {
          "base_uri": "https://localhost:8080/",
          "height": 34
        }
      },
      "source": [
        "neigh = KNeighborsClassifier(n_neighbors=3)\n",
        "neigh.fit(X_train,y_train)\n",
        "neigh.predict(X_test)\n",
        "neigh.score(X_test,y_test)"
      ],
      "execution_count": 43,
      "outputs": [
        {
          "output_type": "execute_result",
          "data": {
            "text/plain": [
              "0.98"
            ]
          },
          "metadata": {
            "tags": []
          },
          "execution_count": 43
        }
      ]
    },
    {
      "cell_type": "code",
      "metadata": {
        "id": "7FAEVCEL8qV2",
        "colab_type": "code",
        "outputId": "683466d0-223a-48de-a00f-f7c0233fd650",
        "colab": {
          "base_uri": "https://localhost:8080/",
          "height": 282
        }
      },
      "source": [
        "# Plot a graph showing accuracy vs number of neighbours for each value of n_neighbours from 1-20\n",
        "import matplotlib.pyplot as plt\n",
        "\n",
        "def knn(x):\n",
        "  neigh = KNeighborsClassifier(n_neighbors=x)\n",
        "  neigh.fit(X_train,y_train)\n",
        "  neigh.predict(X_test)\n",
        "  return neigh.score(X_test,y_test)\n",
        "\n",
        "lim = 50\n",
        "x = [ i + 1 for i in range(lim) ]\n",
        "y = []\n",
        "for i in x:\n",
        "  y.append(knn(i))\n",
        "plt.plot(x, y)"
      ],
      "execution_count": 44,
      "outputs": [
        {
          "output_type": "execute_result",
          "data": {
            "text/plain": [
              "[<matplotlib.lines.Line2D at 0x7efebcb759e8>]"
            ]
          },
          "metadata": {
            "tags": []
          },
          "execution_count": 44
        },
        {
          "output_type": "display_data",
          "data": {
            "image/png": "[encoded data removed]",
            "text/plain": [
              "<Figure size 432x288 with 1 Axes>"
            ]
          },
          "metadata": {
            "tags": [],
            "needs_background": "light"
          }
        }
      ]
    }
  ]
}