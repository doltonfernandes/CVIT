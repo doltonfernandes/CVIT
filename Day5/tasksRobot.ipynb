{
  "nbformat": 4,
  "nbformat_minor": 0,
  "metadata": {
    "colab": {
      "name": "CVIT2.ipynb",
      "provenance": [],
      "collapsed_sections": []
    },
    "kernelspec": {
      "name": "python3",
      "display_name": "Python 3"
    }
  },
  "cells": [
    {
      "cell_type": "markdown",
      "metadata": {
        "id": "c2OXSLAgHxPB",
        "colab_type": "text"
      },
      "source": [
        "# **Probability and Statistics**"
      ]
    },
    {
      "cell_type": "code",
      "metadata": {
        "id": "ZIx3z-ET-2VH",
        "colab_type": "code",
        "colab": {}
      },
      "source": [
        "# Modify the empty list, p, so that it becomes a UNIFORM probability\n",
        "# distribution over n grid cells, as expressed in a list of \n",
        "# n probabilities.\n",
        "def init_distribution(n):\n",
        "    # Add your code here\n",
        "    p = [ 1/n for i in range(n) ]\n",
        "    # End your code here\n",
        "    return p"
      ],
      "execution_count": 0,
      "outputs": []
    },
    {
      "cell_type": "code",
      "metadata": {
        "id": "gqyAy_PH-98c",
        "colab_type": "code",
        "outputId": "8d85730e-ed0b-4500-c9db-65a0a805490f",
        "colab": {
          "base_uri": "https://localhost:8080/",
          "height": 34
        }
      },
      "source": [
        "init_distribution(5)"
      ],
      "execution_count": 4,
      "outputs": [
        {
          "output_type": "execute_result",
          "data": {
            "text/plain": [
              "[0.2, 0.2, 0.2, 0.2, 0.2]"
            ]
          },
          "metadata": {
            "tags": []
          },
          "execution_count": 4
        }
      ]
    },
    {
      "cell_type": "code",
      "metadata": {
        "id": "aesPNumaAZYe",
        "colab_type": "code",
        "outputId": "9056e3b3-a34e-4556-9c2d-6b7fdd5a5285",
        "colab": {
          "base_uri": "https://localhost:8080/",
          "height": 104
        }
      },
      "source": [
        "#Modify the code below so that the function sense, which \n",
        "#takes p and Z as inputs, will output the normalized \n",
        "#probability distribution, q, after multiplying the entries \n",
        "# in p according to the color in the corresponding cell in world,\n",
        "# followed by normalization of the probability values\n",
        "world=['green', 'red', 'red', 'green', 'green']\n",
        "p = [0.2, 0.2, 0.2, 0.2, 0.2]\n",
        "dictt = {\n",
        "    \"redred\": 0.75,\n",
        "    \"redgreen\": 0.25,\n",
        "    \"greenred\": 0.25,\n",
        "    \"greengreen\": 0.75\n",
        "}\n",
        "\n",
        "def sense(p, Z):\n",
        "    # Add your code here\n",
        "    q = [ p[i] * dictt[Z + world[i]] for i in range(len(p)) ]\n",
        "    s = sum(q)\n",
        "    # End your code here\n",
        "    q = [ i / s for i in q ]\n",
        "    return q\n",
        "            \n",
        "sense(p, 'red')"
      ],
      "execution_count": 5,
      "outputs": [
        {
          "output_type": "execute_result",
          "data": {
            "text/plain": [
              "[0.11111111111111112,\n",
              " 0.33333333333333337,\n",
              " 0.33333333333333337,\n",
              " 0.11111111111111112,\n",
              " 0.11111111111111112]"
            ]
          },
          "metadata": {
            "tags": []
          },
          "execution_count": 5
        }
      ]
    },
    {
      "cell_type": "code",
      "metadata": {
        "id": "lgRE45zmDenI",
        "colab_type": "code",
        "outputId": "f2dd3480-4ac4-40c1-ffb4-e9b1cc9081e3",
        "colab": {
          "base_uri": "https://localhost:8080/",
          "height": 34
        }
      },
      "source": [
        "#Modify the code so that it updates the probability twice\n",
        "#and gives the posterior distribution after both \n",
        "#measurements are incorporated. Make sure that your code \n",
        "#allows for any sequence of measurement of any length.\n",
        "\n",
        "# DO NOT MODIFY THE SENSE FUNCTION. JUST CALL THE SENSE FUNCTION APPROPRIATELY\n",
        "\n",
        "p = [0.2, 0.2, 0.2, 0.2, 0.2]\n",
        "world = ['green', 'red', 'red', 'green', 'green']\n",
        "measurements = ['red', 'green']\n",
        "\n",
        "# Add your code here\n",
        "for i in measurements:\n",
        "  p = sense(p, i)\n",
        "# End your code here\n",
        "print(p)"
      ],
      "execution_count": 6,
      "outputs": [
        {
          "output_type": "stream",
          "text": [
            "[0.19999999999999998, 0.19999999999999998, 0.19999999999999998, 0.19999999999999998, 0.19999999999999998]\n"
          ],
          "name": "stdout"
        }
      ]
    },
    {
      "cell_type": "code",
      "metadata": {
        "id": "JP5u_SKjGhse",
        "colab_type": "code",
        "outputId": "64d053d3-8e44-48e1-e4d7-fd9d5a3a4bcf",
        "colab": {
          "base_uri": "https://localhost:8080/",
          "height": 34
        }
      },
      "source": [
        "import numpy as np\n",
        "#Program a function that returns a new distribution \n",
        "#q, shifted to the right by U units. If U=0, q should \n",
        "#be the same as p.\n",
        "\n",
        "def move(p, U):\n",
        "    # ADD CODE HERE\n",
        "    for i in range(abs(U)):\n",
        "      if U >= 0:\n",
        "        p.insert(0, p.pop())\n",
        "      else:\n",
        "        p.append(p.pop(0))\n",
        "    # END CODE HERE\n",
        "    return np.array(p)\n",
        "\n",
        "move([0.11, 0.33, 0.33, 0.11, 0.11], 1)"
      ],
      "execution_count": 7,
      "outputs": [
        {
          "output_type": "execute_result",
          "data": {
            "text/plain": [
              "array([0.11, 0.11, 0.33, 0.33, 0.11])"
            ]
          },
          "metadata": {
            "tags": []
          },
          "execution_count": 7
        }
      ]
    },
    {
      "cell_type": "code",
      "metadata": {
        "id": "iQlOQMunJ9yS",
        "colab_type": "code",
        "outputId": "b85bc0f0-abb2-45b9-8693-0268fc410709",
        "colab": {
          "base_uri": "https://localhost:8080/",
          "height": 34
        }
      },
      "source": [
        "def move2(p, U):\n",
        "    q = []\n",
        "    # ADD CODE HERE\n",
        "    for i in range(len(p)):\n",
        "      q.append(p[(len(p) + i - 1)%len(p)] * 0.1 + p[(len(p) + i - 2)%len(p)] * 0.8 + p[(len(p) + i - 3)%len(p)] * 0.1)\n",
        "    # END CODE HERE\n",
        "    return q\n",
        "\n",
        "move2([0, 1.0, 0, 0, 0], 1)"
      ],
      "execution_count": 8,
      "outputs": [
        {
          "output_type": "execute_result",
          "data": {
            "text/plain": [
              "[0.0, 0.0, 0.1, 0.8, 0.1]"
            ]
          },
          "metadata": {
            "tags": []
          },
          "execution_count": 8
        }
      ]
    },
    {
      "cell_type": "code",
      "metadata": {
        "id": "tnDKYbVGPjFK",
        "colab_type": "code",
        "outputId": "dc0d75ed-1177-4ebc-8314-bf0d4a5c45a6",
        "colab": {
          "base_uri": "https://localhost:8080/",
          "height": 104
        }
      },
      "source": [
        "# Write code that makes the robot move twice and then prints \n",
        "# out the resulting distribution, starting with the initial \n",
        "# distribution p = [0, 1, 0, 0, 0]\n",
        "\n",
        "# Call the function appropriately from here\n",
        "p = [0, 1.0, 0, 0, 0]\n",
        "# ADD CODE HERE\n",
        "for i in range(2):\n",
        "  p = move2(p, 1)\n",
        "# END CODE HERE\n",
        "p"
      ],
      "execution_count": 9,
      "outputs": [
        {
          "output_type": "execute_result",
          "data": {
            "text/plain": [
              "[0.6600000000000001,\n",
              " 0.16000000000000003,\n",
              " 0.010000000000000002,\n",
              " 0.010000000000000002,\n",
              " 0.16000000000000003]"
            ]
          },
          "metadata": {
            "tags": []
          },
          "execution_count": 9
        }
      ]
    },
    {
      "cell_type": "code",
      "metadata": {
        "id": "ArNtVEm03o6l",
        "colab_type": "code",
        "outputId": "29d9fe00-9485-4f28-958e-2831666369d3",
        "colab": {
          "base_uri": "https://localhost:8080/",
          "height": 104
        }
      },
      "source": [
        "#write code that moves 1000 times and then prints the \n",
        "#resulting probability distribution.\n",
        "\n",
        "p = [0, 1, 0, 0, 0]\n",
        "# ADD CODE HERE\n",
        "for i in range(1000):\n",
        "  p = move2(p, 1)\n",
        "# END CODE HERE\n",
        "p"
      ],
      "execution_count": 10,
      "outputs": [
        {
          "output_type": "execute_result",
          "data": {
            "text/plain": [
              "[0.20000000000000365,\n",
              " 0.20000000000000373,\n",
              " 0.20000000000000365,\n",
              " 0.2000000000000035,\n",
              " 0.2000000000000035]"
            ]
          },
          "metadata": {
            "tags": []
          },
          "execution_count": 10
        }
      ]
    },
    {
      "cell_type": "code",
      "metadata": {
        "id": "sOw5W9lN3XIF",
        "colab_type": "code",
        "colab": {
          "base_uri": "https://localhost:8080/",
          "height": 104
        },
        "outputId": "27e1b45d-15cc-45ae-8656-cb0f9d34b590"
      },
      "source": [
        "#Given the list motions=[1,1] which means the robot \n",
        "#moves right and then right again, compute the posterior \n",
        "#distribution if the robot first senses red, then moves \n",
        "#right one, then senses green, then moves right again, \n",
        "#starting with a uniform prior distribution.\n",
        "\n",
        "world=['green', 'red', 'red', 'green', 'green']\n",
        "measurements = ['red', 'green']\n",
        "motions = [1,1]\n",
        "\n",
        "p = init_distribution(len(world))\n",
        "# ADD CODE HERE\n",
        "for i in range(2):\n",
        "    q = sense(p, measurements[i])\n",
        "    print(q)\n",
        "    q1 = move(q, motions[i])\n",
        "    print(q1)\n",
        "    p = q1\n",
        "print(p)"
      ],
      "execution_count": 12,
      "outputs": [
        {
          "output_type": "stream",
          "text": [
            "[0.11111111111111112, 0.33333333333333337, 0.33333333333333337, 0.11111111111111112, 0.11111111111111112]\n",
            "[0.11111111 0.11111111 0.33333333 0.33333333 0.11111111]\n",
            "[0.15789473684210528, 0.052631578947368425, 0.15789473684210528, 0.47368421052631576, 0.15789473684210528]\n",
            "[0.15789474 0.15789474 0.05263158 0.15789474 0.47368421]\n",
            "[0.15789474 0.15789474 0.05263158 0.15789474 0.47368421]\n"
          ],
          "name": "stdout"
        }
      ]
    }
  ]
}